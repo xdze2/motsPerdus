{
 "cells": [
  {
   "cell_type": "code",
   "execution_count": 54,
   "metadata": {},
   "outputs": [],
   "source": [
    "import numpy as np\n",
    "\n",
    "import matplotlib.pyplot as plt\n",
    "%matplotlib inline\n",
    "\n",
    "plt.rc('font', size=12)\n",
    "plt.rc('axes', labelsize=12)"
   ]
  },
  {
   "cell_type": "code",
   "execution_count": 55,
   "metadata": {},
   "outputs": [
    {
     "name": "stdout",
     "output_type": "stream",
     "text": [
      "The autoreload extension is already loaded. To reload it, use:\n",
      "  %reload_ext autoreload\n"
     ]
    }
   ],
   "source": [
    "%load_ext autoreload\n",
    "%autoreload 2"
   ]
  },
  {
   "cell_type": "code",
   "execution_count": 56,
   "metadata": {},
   "outputs": [],
   "source": [
    "import gglngram as gn\n",
    "import sqlite3 as sq"
   ]
  },
  {
   "cell_type": "code",
   "execution_count": 57,
   "metadata": {},
   "outputs": [],
   "source": [
    "databasePath = 'database-b.sqlite'"
   ]
  },
  {
   "cell_type": "code",
   "execution_count": 58,
   "metadata": {},
   "outputs": [],
   "source": [
    "dbconnection = sq.connect(databasePath)\n",
    "cursor = dbconnection.cursor()"
   ]
  },
  {
   "cell_type": "code",
   "execution_count": 59,
   "metadata": {},
   "outputs": [
    {
     "name": "stdout",
     "output_type": "stream",
     "text": [
      "('bien', 132797609, 786302)\n",
      "('bien_ADV', 126312985, 785757)\n",
      "('beaucoup', 37316413, 761231)\n",
      "('beaucoup_ADV', 37220646, 761159)\n",
      "('bon', 19953807, 749382)\n",
      "('bon_ADJ', 19191286, 747913)\n",
      "('bonne', 16556045, 743188)\n",
      "('bonne_ADJ', 16556045, 743188)\n",
      "('but', 16283764, 730827)\n",
      "('but_NOUN', 16283764, 730827)\n"
     ]
    }
   ],
   "source": [
    "# Get sorted ngrams  by total counts\n",
    "getTopNgram = \"\"\"SELECT * from countngram\n",
    "                      ORDER BY matchcount DESC\"\"\"\n",
    "\n",
    "cursor.execute( getTopNgram )\n",
    "\n",
    "rows = cursor.fetchall()\n",
    "for row in rows[:10]:\n",
    "    print(row)"
   ]
  },
  {
   "cell_type": "code",
   "execution_count": 60,
   "metadata": {},
   "outputs": [
    {
     "name": "stdout",
     "output_type": "stream",
     "text": [
      "412739\n"
     ]
    }
   ],
   "source": [
    "print( len(rows) )"
   ]
  },
  {
   "cell_type": "code",
   "execution_count": 168,
   "metadata": {},
   "outputs": [],
   "source": [
    "def getZscore( years, counts ):\n",
    "    iMax = np.argmax( counts )\n",
    "    vMax = counts[ iMax ]\n",
    "    zScore = (vMax - counts.mean())/counts.std()\n",
    "    return years[ iMax ], zScore #* np.sqrt(counts.mean())\n",
    "\n",
    "def getCumulScore( y, c ):\n",
    "    cm = c.mean()\n",
    "    cumul = np.cumsum( np.cumsum( (c - cm) ) )\n",
    "\n",
    "    iMax = np.argmax( cumul )\n",
    "\n",
    "    return y[ iMax ], cumul[iMax]\n"
   ]
  },
  {
   "cell_type": "code",
   "execution_count": 154,
   "metadata": {},
   "outputs": [
    {
     "name": "stdout",
     "output_type": "stream",
     "text": [
      " 1000"
     ]
    }
   ],
   "source": [
    "zScoreByYear = {}\n",
    "i = 0\n",
    "for ng, c, ngs in rows[:1000]:\n",
    "    year, zScore = getZscore( *gn.getCountPerYear( cursor, ng, k=3, volume=True, normed=True ) )\n",
    "    \n",
    "    if year in zScoreByYear:\n",
    "        zScoreByYear[year].append( [ng, zScore] )\n",
    "    else:\n",
    "        zScoreByYear[year] = [ [ng, zScore], ]\n",
    "        \n",
    "    i = i+1\n",
    "    if i%50==0:\n",
    "        print( '\\r %i'%i, end='' )"
   ]
  },
  {
   "cell_type": "code",
   "execution_count": 155,
   "metadata": {},
   "outputs": [],
   "source": [
    "#import json\n",
    "#json.dump(zScoreByYear, open(\"zScoreByYear_m_3k.txt\", 'w'))"
   ]
  },
  {
   "cell_type": "code",
   "execution_count": 156,
   "metadata": {},
   "outputs": [],
   "source": [
    "getTop5 = lambda l: ', '.join([ x[0] for x in sorted( l, key=lambda x:x[1], reverse=True )[:3] ])"
   ]
  },
  {
   "cell_type": "code",
   "execution_count": 157,
   "metadata": {},
   "outputs": [],
   "source": [
    "zScoreByYearList = sorted( zScoreByYear.items(), key=lambda x:x[0] )\n",
    "zScoreByYearList = [ '%i: %s'%(y, getTop5(ngrams)) for y, ngrams in  zScoreByYearList ]"
   ]
  },
  {
   "cell_type": "code",
   "execution_count": 158,
   "metadata": {},
   "outputs": [
    {
     "name": "stdout",
     "output_type": "stream",
     "text": [
      "1801: brûle_VERB, brûle, B\n",
      "1804: brumaire, bienfaisance, bienfaisance_NOUN\n",
      "1806: bâtimens_NOUN, bâtimens\n",
      "1807: blanchâtre, bu, bu_VERB\n",
      "1808: Buffon, Buffon_NOUN, boisson_NOUN\n",
      "1811: baromètre, baromètre_NOUN, bouillante_ADJ\n",
      "1812: berger_NOUN, bouillir, bouillir_VERB\n",
      "1814: Bourbons_NOUN, Bourbons\n",
      "1819: blesse\n",
      "1821: balance, balance_NOUN, bornes\n",
      "1823: blessé_VERB, blessé, battre\n",
      "1824: bourreaux_NOUN, bourreaux, bouche_NOUN\n",
      "1825: baiser, beauté_NOUN, beauté\n",
      "1826: biens, biens_NOUN, bonheur_NOUN\n",
      "1827: blesser, blesser_VERB, Bayonne_NOUN\n",
      "1829: baron_NOUN, baron\n",
      "1833: bonnet_NOUN\n",
      "1834: bonnet\n",
      "1835: borne_NOUN\n",
      "1836: boutiques, boutiques_NOUN, bourreau\n",
      "1837: bâtie_VERB, bâtie\n",
      "1838: Bretons, Baudouin, Brabant_NOUN\n",
      "1842: bizarres\n",
      "1843: bâtir_VERB, bâtir, bâties\n",
      "1844: bulle_NOUN, bulle, bailli_NOUN\n",
      "1845: basilique_NOUN, basilique, barrière\n",
      "1846: Bayle, Bayle_NOUN, barons\n",
      "1847: barrières_NOUN, barrières, bannière_NOUN\n",
      "1848: bases_NOUN, bases, brumaire_NOUN\n",
      "1855: Bouillon_NOUN, Bouillon\n",
      "1856: baptême, baptême_NOUN\n",
      "1857: briser, briser_VERB, brebis\n",
      "1858: brise_VERB\n",
      "1861: bénédiction_NOUN, bénédiction\n",
      "1863: Bible_NOUN\n",
      "1864: Bacon, Bacon_NOUN, Bossuet_NOUN\n",
      "1865: brille, brille_VERB\n",
      "1870: Bade_NOUN, Bade\n",
      "1871: brigades, brigades_NOUN, ballon_NOUN\n",
      "1872: ban_NOUN, brisée_VERB, brisée\n",
      "1873: Beaumont, Beaumont_NOUN, bâtiment\n",
      "1874: Broglie_NOUN, Broglie, bruits_NOUN\n",
      "1875: brûlés_VERB, brûlés, basse_NOUN\n",
      "1876: Bel_NOUN, Bel, barque\n",
      "1877: botanique, barbe, bœuf_NOUN\n",
      "1878: Bell, Barbier, Barbier_NOUN\n",
      "1879: bibliothécaire, bibliothécaire_NOUN, Bonnet_NOUN\n",
      "1880: Bologne, Bologne_NOUN, Barthélemy_NOUN\n",
      "1881: baguette, baguette_NOUN, bec\n",
      "1882: boule, bouts, bouts_NOUN\n",
      "1883: Bey_NOUN, bâti_VERB, bibliothèques_NOUN\n",
      "1884: Blois, Blois_NOUN\n",
      "1885: bagage_NOUN, bagage, boutique_NOUN\n",
      "1886: bal_NOUN, bouquet, bouquet_NOUN\n",
      "1887: Bourges_NOUN, baux\n",
      "1888: banc_NOUN, banc, Bailly_NOUN\n",
      "1889: bijoux, bijoux_NOUN, brillant_ADJ\n",
      "1890: Brun, Bouches, Brun_NOUN\n",
      "1891: boule_NOUN, bougies, bougies_NOUN\n",
      "1892: Blanc_NOUN, barre, barre_NOUN\n",
      "1893: boit_VERB\n",
      "1894: bouteille, bouteille_NOUN, boit\n",
      "1895: bouteilles_NOUN, bouteilles, Boyer_NOUN\n",
      "1896: Beau, bleu_NOUN\n",
      "1897: bouillie, bouchon_NOUN, bouchon\n",
      "1898: brevet_NOUN, brevet\n",
      "1899: baie, baie_NOUN, Bois\n",
      "1900: bacille_NOUN, bacille, botanique_ADJ\n",
      "1901: bobine, bobine_NOUN, b._NOUN\n",
      "1902: Basse_NOUN, brevets_NOUN, brevets\n",
      "1904: bi\n",
      "1905: bail, Beaulieu_NOUN, Beaulieu\n",
      "1906: Bruges, Bruges_NOUN\n",
      "1908: Bourse, Bourse_NOUN\n",
      "1909: Bibl_NOUN, Bibl, boucles\n",
      "1910: Blondel, Blondel_NOUN\n",
      "1911: Basse, Berry, Bruxelles\n",
      "1912: Baron, Baron_NOUN, Berry_NOUN\n",
      "1913: buste_NOUN, buste, bleue\n",
      "1914: bey, Berne_NOUN, Berne\n",
      "1915: bombes_NOUN, bombes, Bosnie_NOUN\n",
      "1916: Bataille, Bataille_NOUN, boue\n",
      "1917: bétail_NOUN, bétail, beurre_NOUN\n",
      "1918: Brest_NOUN, Brest\n",
      "1921: bleues_ADJ, brume, brume_NOUN\n",
      "1922: brusque_ADJ\n",
      "1923: baiser_NOUN, Beuve_NOUN, Beuve\n",
      "1925: bleus_ADJ, bleus\n",
      "1929: Briand_NOUN, Briand\n",
      "1931: Barcelone_NOUN, Barcelone\n",
      "1932: Britannique, Britannique_ADJ, banquiers\n",
      "1933: baissé, baissé_VERB\n",
      "1934: B._ADJ, Bach\n",
      "1936: Biol, Biologie, bei_X\n",
      "1937: Bucarest_NOUN, Bucarest, Blum\n",
      "1938: B._NOUN, B., Bureau\n",
      "1939: Bull, Bull_NOUN, BULLETIN\n",
      "1946: Bergson_NOUN, Bergson, bête\n",
      "1947: Baudelaire_NOUN, Baudelaire\n",
      "1948: bombe_NOUN, bombe\n",
      "1949: Britanniques\n",
      "1950: Balzac, Balzac_NOUN, biologie_NOUN\n",
      "1951: brousse_NOUN, brousse, bordure_NOUN\n",
      "1952: biologiques\n",
      "1953: by_X\n",
      "1954: by, Brown\n",
      "1955: ben_X, barrages, Bien_NOUN\n",
      "1956: barrages_NOUN, Bassin_NOUN, Bassin\n",
      "1957: buts_NOUN, buts, bénéficiaire_NOUN\n",
      "1958: Belge_ADJ, Belge, blocs\n",
      "1959: Bonn, Bonn_NOUN, bénéficiaires\n",
      "1960: barrage, barrage_NOUN\n",
      "1963: Brazzaville_NOUN, Brazzaville, before\n",
      "1964: brute_ADJ, Bloch\n",
      "1965: bovins_NOUN, bovins\n",
      "1973: bond, bond_NOUN\n",
      "1974: bruts, bruts_ADJ, béton\n",
      "1975: bancaire, bancaire_ADJ, b\n",
      "1976: bourgeoises, blocage, blocage_NOUN\n",
      "1977: bureaucratie_NOUN, bureaucratie, bourgeoise_ADJ\n",
      "1981: Budget, Budget_NOUN, bibliographie\n",
      "1986: both_X, both, because\n",
      "1987: Bénin, being, bibliographiques\n",
      "1989: bouleversement, bouleversement_NOUN, brutalement\n",
      "1990: before_X, Britanniques_NOUN, bref_ADJ\n",
      "1991: baroque, bouleversements_NOUN, bouleversements\n",
      "1992: Belles\n",
      "1993: be, be_X, baptisé\n",
      "1995: Bénin_NOUN, Breton, budgétaires\n",
      "1996: biographique, biographie, biographie_NOUN\n",
      "1997: Bernard, Bernard_NOUN, biblique_ADJ\n",
      "1998: biblique, bibliques\n",
      "2000: Bruno_NOUN, Bruno, biais_NOUN\n",
      "2001: biologique, biologique_ADJ\n",
      "2002: Budapest\n",
      "2004: Ben_X, Ben, Ben_NOUN\n",
      "2005: between, between_X\n",
      "2006: been, been_X, Bien\n",
      "2007: Benoît_NOUN\n",
      "2008: Burkina, BP, BP_NOUN\n"
     ]
    }
   ],
   "source": [
    "print( '\\n'.join(zScoreByYearList) )"
   ]
  },
  {
   "cell_type": "code",
   "execution_count": 167,
   "metadata": {},
   "outputs": [
    {
     "data": {
      "image/png": "[encoded data removed]",
      "text/plain": [
       "<matplotlib.figure.Figure at 0x7f298122f240>"
      ]
     },
     "metadata": {},
     "output_type": "display_data"
    }
   ],
   "source": [
    "gn.plot( cursor, \"bouleversement\", k=3, volume=True, normed=True )"
   ]
  },
  {
   "cell_type": "code",
   "execution_count": null,
   "metadata": {},
   "outputs": [],
   "source": []
  }
 ],
 "metadata": {
  "kernelspec": {
   "display_name": "Python 3",
   "language": "python",
   "name": "python3"
  },
  "language_info": {
   "codemirror_mode": {
    "name": "ipython",
    "version": 3
   },
   "file_extension": ".py",
   "mimetype": "text/x-python",
   "name": "python",
   "nbconvert_exporter": "python",
   "pygments_lexer": "ipython3",
   "version": "3.5.2"
  }
 },
 "nbformat": 4,
 "nbformat_minor": 2
}
