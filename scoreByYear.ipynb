{
 "cells": [
  {
   "cell_type": "code",
   "execution_count": 1,
   "metadata": {},
   "outputs": [],
   "source": [
    "import numpy as np\n",
    "\n",
    "import matplotlib.pyplot as plt\n",
    "%matplotlib inline\n",
    "\n",
    "plt.rc('font', size=12)\n",
    "plt.rc('axes', labelsize=12)"
   ]
  },
  {
   "cell_type": "code",
   "execution_count": 2,
   "metadata": {},
   "outputs": [],
   "source": [
    "%load_ext autoreload\n",
    "%autoreload 2"
   ]
  },
  {
   "cell_type": "code",
   "execution_count": 3,
   "metadata": {},
   "outputs": [],
   "source": [
    "import gglngram as gn\n",
    "import sqlite3 as sq"
   ]
  },
  {
   "cell_type": "code",
   "execution_count": 4,
   "metadata": {},
   "outputs": [],
   "source": [
    "letter = 'c'\n",
    "databasePath = 'data/database-%s.sqlite' % letter"
   ]
  },
  {
   "cell_type": "code",
   "execution_count": 5,
   "metadata": {},
   "outputs": [],
   "source": [
    "dbconnection = sq.connect(databasePath)\n",
    "cursor = dbconnection.cursor()"
   ]
  },
  {
   "cell_type": "code",
   "execution_count": 6,
   "metadata": {},
   "outputs": [
    {
     "name": "stdout",
     "output_type": "stream",
     "text": [
      "759511\n"
     ]
    }
   ],
   "source": [
    "# Get sorted ngrams  by total counts\n",
    "getTopNgram = \"\"\"SELECT * from countngram\n",
    "                 ORDER BY matchcount DESC\"\"\"\n",
    "\n",
    "cursor.execute( getTopNgram )\n",
    "\n",
    "rows = cursor.fetchall() \n",
    "print( len(rows) )"
   ]
  },
  {
   "cell_type": "code",
   "execution_count": 7,
   "metadata": {},
   "outputs": [
    {
     "name": "stdout",
     "output_type": "stream",
     "text": [
      "322155\n",
      "('ce', 368216698, 769114)\n",
      "('cette', 214785748, 767827)\n",
      "('comme', 201013050, 767738)\n",
      "('ces', 174183859, 767094)\n",
      "(\"c'est\", 109613413, 761279)\n",
      "(\"C'est\", 64744571, 756701)\n",
      "('contre', 63054389, 755491)\n",
      "('Ce', 60242498, 763056)\n",
      "('cas', 59620609, 738542)\n",
      "('celle', 58825662, 758221)\n"
     ]
    }
   ],
   "source": [
    "# filter out ngram with '_':\n",
    "rows = [ row for row in rows if '_' not in row[0] ]\n",
    "\n",
    "print( len(rows) )\n",
    "\n",
    "for row in rows[:10]:\n",
    "    print(row)"
   ]
  },
  {
   "cell_type": "code",
   "execution_count": 30,
   "metadata": {},
   "outputs": [],
   "source": [
    "def getZscore( years, counts ):\n",
    "    iMax = np.argmax( counts )\n",
    "    vMax = counts[ iMax ]\n",
    "    zScore = (vMax - counts.mean())/counts.std()\n",
    "    return years[ iMax ], zScore #* np.sqrt(counts.mean())\n",
    "\n",
    "def getCumulScore( y, c ):\n",
    "    cm = c.mean()\n",
    "    cumul = np.cumsum( np.cumsum( (c - cm) ) )\n",
    "\n",
    "    iMax = np.argmax( cumul )\n",
    "\n",
    "    return y[ iMax ], cumul[iMax]\n",
    "\n",
    "\n",
    "def getScore(y, c):\n",
    "    ''' Return a year, and a score\n",
    "    '''\n",
    "    maxmin = c.max() - c.min()\n",
    "    alpha = 0.1\n",
    "    lowLimit = alpha*maxmin + c.min()\n",
    "    highLimit = c.max() - alpha*maxmin\n",
    "\n",
    "    unknownLimit = 0.00001\n",
    "    unknownDuration = len( np.argwhere( c<unknownLimit ) )\n",
    "    \n",
    "                          \n",
    "    yearsInTheMiddle = y[ np.argwhere( (c>lowLimit) & (c<highLimit)  ) ]\n",
    "    dt = len( yearsInTheMiddle )\n",
    "    puissance = maxmin / dt\n",
    "    #yMiddle = int( yearsInTheMiddle.mean() )\n",
    "    yMiddle = y[ np.argwhere( c>lowLimit )[0][0] ]\n",
    "    \n",
    "    #p = np.diff(c)/c[1:]\n",
    "    #p = p[ (c[1:])>1e-2 ]\n",
    "\n",
    "    if unknownDuration < 3:\n",
    "        puissance = 0\n",
    "        \n",
    "    return yMiddle, puissance\n",
    "\n",
    "\n",
    "def getScoreOpti(y, c):\n",
    "    ''' Return a year, and a score\n",
    "    '''\n",
    "    unknownLimit = 0.00001\n",
    "    if c.min() > unknownLimit or c.sum() < 1e-5:\n",
    "        yStart, puissance = 0, 0\n",
    "        \n",
    "    else:\n",
    "        cmax = c.max()\n",
    "        alpha = 0.1\n",
    "        lowLimit = alpha*cmax\n",
    "        #highLimit = cmax*( 1 - alpha )\n",
    "\n",
    "\n",
    "        #inTheMiddle = np.argwhere( (c>lowLimit) & (c<highLimit)  )\n",
    "        #dt = len( inTheMiddle )\n",
    "        puissance = cmax #/ dt\n",
    "\n",
    "        yStart = y[ np.argwhere( c>lowLimit )[0][0] ]\n",
    "        \n",
    "    return yStart, puissance"
   ]
  },
  {
   "cell_type": "code",
   "execution_count": 31,
   "metadata": {},
   "outputs": [
    {
     "name": "stdout",
     "output_type": "stream",
     "text": [
      " 6000\n",
      " done\n"
     ]
    }
   ],
   "source": [
    "scoreByYear = {}\n",
    "i = 0\n",
    "for ng, c, ngs in rows[:6000]:\n",
    "    year, zScore = getScoreOpti( *gn.getCountPerYear( cursor, ng, k=3, volume=False, normed=True ) )\n",
    "    \n",
    "    if zScore != 0:\n",
    "    \n",
    "        if year in scoreByYear:\n",
    "            scoreByYear[year].append( [ng, zScore] )\n",
    "        else:\n",
    "            scoreByYear[year] = [ [ng, zScore], ]\n",
    "        \n",
    "    i = i + 1\n",
    "    if i%50==0:\n",
    "        print( '\\r %i'%i, end='' )\n",
    "        \n",
    "print('\\n done')"
   ]
  },
  {
   "cell_type": "code",
   "execution_count": 32,
   "metadata": {},
   "outputs": [],
   "source": [
    "# save output to JSON:\n",
    "import json\n",
    "scoreByYear_str = { str(key):value for key, value in scoreByYear.items() }\n",
    "json.dump(scoreByYear_str, open(\"results/timeline_20k_%s.json\" % letter, 'w'))"
   ]
  },
  {
   "cell_type": "code",
   "execution_count": 33,
   "metadata": {},
   "outputs": [],
   "source": [
    "getTop5 = lambda l: ', '.join([ x[0] for x in sorted( l, key=lambda x:x[1], reverse=True )[:7] ])"
   ]
  },
  {
   "cell_type": "code",
   "execution_count": 34,
   "metadata": {},
   "outputs": [],
   "source": [
    "scoreByYearList = sorted( scoreByYear.items(), key=lambda x:x[0] )\n",
    "scoreByYearList = [ '%i: %s'%(y, getTop5(ngrams)) for y, ngrams in  scoreByYearList ]"
   ]
  },
  {
   "cell_type": "code",
   "execution_count": 35,
   "metadata": {},
   "outputs": [
    {
     "name": "stdout",
     "output_type": "stream",
     "text": [
      "1801: cit, cellules, chaux, Convention, Compagnie, conception, créanciers\n",
      "1802: Cour, Claude, capitalistes, Classe, Christian, cy, contemporain\n",
      "1803: communautés, changements, Ch., Cabinet, Canal, conjoncture, conscrits\n",
      "1804: compétence, couple, cellule, clé, Collège, Cass, culpabilité\n",
      "1805: coefficient, can, consultation, Charette, contentieux, crânes, Chouans\n",
      "1806: Commune, constate, courants, contraintes, candidat, Corinne, civ\n",
      "1807: chiffre, commerciale, céréales, Confédération, Comptes, Comm, Comédie\n",
      "1808: Chambres, Communautés, case, composantes, congrégations, Cruz, Croatie\n",
      "1809: Côte, corpus, Chemins, Colin, complété, Concours, COMMISSION\n",
      "1810: classiques, croup, classement, Cl., contrôles, Création, chascun\n",
      "1811: Chambre, clinique, client, collaborateurs, Chateaubriand, constituait, Coran\n",
      "1812: contacts, coefficients, chantier, Carter, calorimètre, Caulaincourt, Chanson\n",
      "1813: Charte, chlorure, coloniale, chlore, Caisse, commerciaux, cortès\n",
      "1814: crise, Cromwell, Civ, cerner, cyanure, contourner, CONGRÈS\n",
      "1815: concentration, Comités, Collard, Classification, cartésienne, convoitises, Crustacés\n",
      "1816: Compagnies, causalité, Constitutionnel, Chalon, Coût, Côté, commissariat\n",
      "1817: ceste, ceulx, cest, costé, celuy, croyances, câble\n",
      "1818: Civilisation, curieusement, contraignant, clairvoyants, conventionnellement\n",
      "1819: chasteau, contractants, Columbia, Chevallier, confusions, consciencieuse, conflict\n",
      "1820: Corbie, conference, connoistre, Chlorure, consciencieusement, Chaix, contrecarrer\n",
      "1821: commercial, Campan, conglomérats, conglomérat, critiquent, Charlot\n",
      "1822: combattants, Co., cérébro, cautionnements, Courbevoie, CRÉDIT, courtoise\n",
      "1823: Colombie, Coléoptères, considérants, confiants, CENTRALE, concluants\n",
      "1824: correspondants, consciencieux, curia, Coleridge, chorée, cyanose, chr\n",
      "1825: Cluny, comportait, croquis, Champollion, Comp, contestable, congréganistes\n",
      "1826: Churchill, concessionnaire, coke, Corresp, Constituante, Cons, criminalité\n",
      "1827: calcium, créatrice, contemporaines, collaborateur, couloir, céphalo, contracture\n",
      "1828: conflit, classique, contemporaine, curie, canalisation, Casanova, ciments\n",
      "1829: Commission, Céline, céramiques, Césaire, COMPTE, confidentiel, calque\n",
      "1830: choléra, capacités, colonisation, convictions, candidature, cholériques, cyclique\n",
      "1831: Commissions, Caisses, chloral, cantonal, Coast, constata, CONCOURS\n",
      "1832: Conférence, catégorie, crédits, caoutchouc, coloniaux, circonscriptions, critérium\n",
      "1833: CHRONIQUE, Cartulaire, cigares, colonnettes, concordent, comice, Crown\n",
      "1834: contrairement, Cavaignac, Club, Colette, compartiments, contingence, cosas\n",
      "1835: confrontation, Consalvi, carnet, croyants, Croce, Catégories, cantines\n",
      "1836: Comité, Chemin, commerçants, capture, compétents, Citons, carbonifère\n",
      "1837: catégories, Combes, carbures, Chasles, colonisé, caïd, Critical\n",
      "1838: chlorhydrique, Capital, constituants, certification, charbonnages, connaissements, chlorhydrate\n",
      "1839: complexe, Certaines, coexistence, country, Coll, Company, commente\n",
      "1840: Chers, croisements, coll., Cultures, Carlyle, compréhensive, chalut\n",
      "1841: como, cliniques, convergence, could, Colonial, cannot, caséine\n",
      "1842: Congrès, collectif, contrôler, civilisations, croiseurs, cycles, cellulose\n",
      "1843: constatation, croiseur, céramique, capturé, compresseur, Catégorie, casuistique\n",
      "1844: contrôle, concept, concepts, colis, Cobden, coming, Cotisations\n",
      "1845: Curie, constatons, Case, called, Cosmos, colloïde, citizens\n",
      "1846: caractéristiques, clients, clientèle, chloroforme, complétant, créatif, Chinese\n",
      "1847: CITOYEN, communisme, Crédit, commandes, Canadien, Crémieux, Crise\n",
      "1848: communistes, cadres, collective, capitaliste, cotisations, cépages, collodion\n",
      "1849: Corporations, caféine, compensatoire, créditeurs\n",
      "1850: Cambridge, capitalisation, confortablement\n",
      "1851: Canadiens, consultatif, comp., commutateur, contrôlé, choice, Chicoutimi\n",
      "1852: Chopin, Chem, Canrobert, coolies, compromissoire, Coca, catalyse\n",
      "1853: composante, curare, céphalée\n",
      "1854: circuits, Cie, compléments, Cot, chilienne, chilien, Census\n",
      "1855: Central, Cavour, composants, countries, cliché, compréhensible, compteurs\n",
      "1856: Corr, clivages, cosmiques, conduction, cross, cuando, casino\n",
      "1857: complémentaires, calories, Cohn, clinicien\n",
      "1858: Carl, collectionneur, coréenne, captage\n",
      "1859: collectionneurs, confessionnel, chorale, cumulative\n",
      "1860: City, cinématique, cauchemars, certainly\n",
      "1861: colloïdes, céphalées\n",
      "1862: couramment, cuirassés, cosmique, clichés, Capitulations, compétitions, compresseurs\n",
      "1863: common, Cournot, casier, consultants, Chemical, Cornil, Common\n",
      "1864: Contractantes, chèques, Courbet, Charcot, cells, contrôlées, causale\n",
      "1865: coopératif, convertibilité, Cameron, contaminés, Corti, contaminé, cyclone\n",
      "1866: Cf., Certains, coopératives, cuirassé, Class, convertibles, contaminée\n",
      "1867: Contrairement, confort, Corot, côtière, chaussettes, Carroll, Charentes\n",
      "1868: cycle, centraux, Cambodge, centenaire, Chatelier, Coefficient, chic\n",
      "1869: conflits, consciente, canadiens, concurrentes, chantage, cost, cisaillement\n",
      "1870: constatations, Chicago, canadien, Crispi, cigarettes, Cfr, Cle\n",
      "1871: cible, codification, carnets, cigarette, canadiennes, culturale, cumulatif\n",
      "1872: Commun, Christiane, culturaux, Conflict\n",
      "1873: calcite, conidies, cliniquement, cardio\n",
      "1874: cibles, Cézanne, Chile, cortèges, concurrente\n",
      "1875: croate, Contenu, Conflits, cars\n",
      "1876: Cheikh, contaminées\n",
      "1877: Cohen, cartographie, conférencier, charbonnière, Calmann, champagne, cailloutis\n",
      "1878: Centrale, chèque, clan, conditionnement, Centenaire, Clin, Concept\n",
      "1879: conscient, collectivisme, collectiviste, collectivistes\n",
      "1880: Cheysson, contremaîtres\n",
      "1881: cadre, collaboration, cobayes, contrôlent, colonisateur, cfr, caïds\n",
      "1882: chercheur, cobaye, Contrôle, conscients, colorants, contamination, caféier\n",
      "1883: Congo, Ça, Corée, Conducteur, créole, cocaïne, Crétacé\n",
      "1884: collecte, Cons., collégial, Cornell, closely\n",
      "1885: complexité, collectivité, coopérative, Chamberlain, cinétique, Chautemps, COTE\n",
      "1886: CO2, canalisations, Clausewitz, Chari, copyright, Contemporary\n",
      "1887: comportant, culturales, Copyright, Chantiers, chromatine, côtières, convection\n",
      "1888: Cahiers, canadienne, cathode, CONGO, COMITE, congressistes, COM\n",
      "1889: Corporation, child, causales, contains, codifiée\n",
      "1890: cm, coût, collectives, Clunet, Committee, Cobaye, corporatifs\n",
      "1891: coordination, contrôlée, Council, configurations, consciemment, clear, couplage\n",
      "1892: coopération, collectifs, concrètes, concrets, commando\n",
      "1893: changes, corrosion, Canadian, collaborer, cathodiques, cartels, collabore\n",
      "1894: chômage, chromosomes, caféiers, Cotonou, corporatives, congédiement, Constatant\n",
      "1895: corporatif, Curzon, cubaine, chaotique, cathodique, cinématographe, Chômage\n",
      "1896: corporative, cytoplasme, Charbonnages, Coopérative, contingences, Children, cocontractant\n",
      "1897: ça, chômeurs, cubain, côtier, cytoplasmique, concurrencer\n",
      "1898: cm3, Coloniale, Cadre, chalutiers, conductivité, chromosome, chômeur\n",
      "1899: Caillaux, Conakry, children, Cliché, Coopératives, cell, constructive\n",
      "1900: croissance, cf, chercheurs, Coopération, concentrations, criminologie, centrifugation\n",
      "1901: Centre, Commissariat, corrélations, CV, Cartel, conditionnée, concerning\n",
      "1902: colloïdal, casos, clientèles, consumption, Consortium\n",
      "1903: Clemenceau, Century, cortex, concerned, cash, capacity, collagène\n",
      "1904: crédibilité, classicisme, cultuelles, Charlie, cultuelle, characteristic, championnat\n",
      "1905: compréhension, cultural, conditionne, conservatisme, conditionnent, Contact, clearly\n",
      "1906: Casablanca, congolaise, cohérent, congolaises, confédéral, contractuels, Concerto\n",
      "1907: cosmos, cinématographiques, Carrefour\n",
      "1908: compétition, critical, constructif, catalyseurs, Conscient\n",
      "1909: climatiques, control, cursus, Caractéristiques, cheminots, community, catalyseur\n",
      "1910: cohérente, comptage, candidate, chefferie, current, cargos, comparison\n",
      "1911: Cameroun, Cassirer, CADRE, create\n",
      "1912: Claudel, conceptuelle, characteristics\n",
      "1913: Commonwealth, century, cinémas, cubisme, communities, controlled, changing\n",
      "1914: cf., camions, camion, créneau, calmement, combattante\n",
      "1915: cinématographique, cheminement, Centres, copains, copain, crisis, Capitant\n",
      "1916: collectivités, Couve, catéchèse, culmine, camping, camouflage\n",
      "1917: conjointe, constitutionnalité, Control, centralisme, Citroën, camoufler\n",
      "1918: carence, Concourt, coincé, camionnette\n",
      "1919: Copeau, classiquement, Current, cotation, Concepts\n",
      "1920: carburant, Cocteau, Cinéma, Croissance, centristes, ciné, COHEN\n",
      "1921: communiste, capitalisme, carburants, Communiste, Child, catastrophique, Cage\n",
      "1922: Chimique, continuum, conformisme, carences\n",
      "1923: C.R., caractérisation, chimiothérapie, catastrophiques\n",
      "1924: critère, Cart, centriste, Civilisations, cocktail\n",
      "1925: cinéma, Contracting, contingentement, concrétiser, Cendrars, Coordination, centrées\n",
      "1926: cholestérol, Comprendre, conceptuelles, concrétise, connecteurs, categories\n",
      "1927: C.C.\n",
      "1928: Corbusier, collectivisation, classical, components, concrétisée\n",
      "1929: CF, CENTRE, CROISSANCE\n",
      "1930: climatique, cultura, clones\n",
      "1931: comportement, clearing, compatibilité, CIM, Clinical, Crisis\n",
      "1932: contrepartie, centré, Comparative, cassettes\n",
      "1933: corporatisme, Comportement, C.P., corporatiste, cohabitent\n",
      "1934: complex, center, Conjoncture\n",
      "1935: centrée, composites, combinatoire, CCI, contrast\n",
      "1936: congolais, concrètement, colonisés, Cell\n",
      "1937: C.G.T., crucial, Complexe, contraignante, convergences\n",
      "1938: Collectivités\n",
      "1939: Congolais, C.A., challenge\n",
      "1940: conceptuel, cruciale, Cadres, Chomsky, confrontées, Carole, collectés\n",
      "1941: collecter, célébrations\n",
      "1942: cohérence, complémentarité, C.S., CICR, Caillois\n",
      "1943: céréalière, cruciaux\n",
      "1944: culturel, culturels, clés, concurrentiel, cinéastes, Christopher, concurrentielle\n",
      "1945: culturelles, C.F.T.C., concrétisation, contraignantes, concentrationnaire\n",
      "1946: coûts, colonialisme, colonialiste\n",
      "1947: critères, caméra, colonialistes, C.F.A., cogestion, commercialisés, contreparties\n",
      "1948: compétences, culturelle, communautaire, comportements, coll, communautaires, citoyenneté\n",
      "1949: Communauté, Center, Community, charisme, C.E., conceptuels\n",
      "1950: Colloque, C.N.R.S., CE., cybernétique, camerounaise, Camerounais\n",
      "1952: CEA, codage, COOPERATION, compétitive\n",
      "1953: colloque, CNRS, C.E.C.A.\n",
      "1954: context, compétitif\n",
      "1955: concl, CECA, conceptualisation, computer\n",
      "1956: camerounais, conflictuelles\n",
      "1957: contexte, C.E.E., confronté, confrontée, CDI\n",
      "1958: cinéaste, contraception, culturellement, centrafricaine\n",
      "1959: CFA, conflictuelle, contacter, Centrafrique\n",
      "1960: CCP, C.D.E., Concrètement\n",
      "1961: charismatique, cadrage\n",
      "1962: contextes, concerné, CAF\n",
      "1963: CEE, connotation, campus, Curieusement, Computer\n",
      "1964: concernés, compétitivité, créativité, concernée, C.F.D.T.\n",
      "1965: concernées, connotations, coopérants, conflictuel\n",
      "1966: cognitif, CFDT, catégorisation, Cisjordanie\n",
      "1967: constat, concertation, Créer, CIA, Contexte, contestataires, contestataire\n",
      "1968: conteneurs, constats, Collectif, créative, Certeau\n",
      "1969: cognitive, cognitifs, centralité, comportementales\n",
      "1970: CGT, contrer, cannabis, comportementale\n",
      "1971: CEDEX, cognitives, crédible, concepteur, crédibles\n",
      "1972: Cedex, conforter\n",
      "1973: Chirac, concepteurs\n",
      "1974: CFTC, Chevènement, conforte\n",
      "1975: cedex, Care, clientélisme\n",
      "1977: convivialité\n",
      "1979: consensuelle\n",
      "1980: CJCE\n",
      "1981: confidentialité\n",
      "1984: CEDH\n",
      "1996: Cgt\n",
      "1999: cliquez, Cliquez\n"
     ]
    }
   ],
   "source": [
    "print( '\\n'.join(scoreByYearList) )"
   ]
  },
  {
   "cell_type": "code",
   "execution_count": 37,
   "metadata": {},
   "outputs": [
    {
     "data": {
      "image/png": "[encoded data removed]",
      "text/plain": [
       "<matplotlib.figure.Figure at 0x7ff31127d0f0>"
      ]
     },
     "metadata": {},
     "output_type": "display_data"
    }
   ],
   "source": [
    "gn.plot( cursor, \"cannabis\", k=3, volume=False, normed=True )"
   ]
  },
  {
   "cell_type": "code",
   "execution_count": 146,
   "metadata": {},
   "outputs": [],
   "source": [
    "y, c = gn.getCountPerYear( cursor,  \"ruralité.\", k=3, volume=False, normed=True )"
   ]
  },
  {
   "cell_type": "code",
   "execution_count": 147,
   "metadata": {},
   "outputs": [
    {
     "data": {
      "text/plain": [
       "9.808761763310659e-06"
      ]
     },
     "execution_count": 147,
     "metadata": {},
     "output_type": "execute_result"
    }
   ],
   "source": [
    "c.sum()"
   ]
  },
  {
   "cell_type": "code",
   "execution_count": 102,
   "metadata": {},
   "outputs": [
    {
     "data": {
      "image/png": "[encoded data removed]",
      "text/plain": [
       "<matplotlib.figure.Figure at 0x7f85be5fe748>"
      ]
     },
     "metadata": {},
     "output_type": "display_data"
    }
   ],
   "source": [
    "gn.plot( cursor, \"FORMATION\", k=3, volume=True, normed=True )"
   ]
  },
  {
   "cell_type": "code",
   "execution_count": 71,
   "metadata": {},
   "outputs": [
    {
     "data": {
      "text/plain": [
       "(1846, 0.0026611465175493732)"
      ]
     },
     "execution_count": 71,
     "metadata": {},
     "output_type": "execute_result"
    }
   ],
   "source": [
    "getScore( *gn.getCountPerYear( cursor, 'fonctionnelle', k=3, volume=True, normed=True ) )"
   ]
  },
  {
   "cell_type": "code",
   "execution_count": null,
   "metadata": {},
   "outputs": [],
   "source": []
  }
 ],
 "metadata": {
  "kernelspec": {
   "display_name": "Python 3",
   "language": "python",
   "name": "python3"
  },
  "language_info": {
   "codemirror_mode": {
    "name": "ipython",
    "version": 3
   },
   "file_extension": ".py",
   "mimetype": "text/x-python",
   "name": "python",
   "nbconvert_exporter": "python",
   "pygments_lexer": "ipython3",
   "version": "3.5.2"
  }
 },
 "nbformat": 4,
 "nbformat_minor": 2
}
