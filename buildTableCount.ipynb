{
 "cells": [
  {
   "cell_type": "code",
   "execution_count": 29,
   "metadata": {},
   "outputs": [],
   "source": [
    "import sqlite3 as sq"
   ]
  },
  {
   "cell_type": "markdown",
   "metadata": {},
   "source": [
    "# Build the tables Count"
   ]
  },
  {
   "cell_type": "code",
   "execution_count": 30,
   "metadata": {},
   "outputs": [],
   "source": [
    "letter = 'r'\n",
    "databasefilename = 'data/database-%s.sqlite' % letter"
   ]
  },
  {
   "cell_type": "code",
   "execution_count": 31,
   "metadata": {},
   "outputs": [],
   "source": [
    "dbconnection = sq.connect(databasefilename)\n",
    "cursor = dbconnection.cursor()"
   ]
  },
  {
   "cell_type": "code",
   "execution_count": 32,
   "metadata": {},
   "outputs": [],
   "source": [
    "''' Create the table `countbulk`\n",
    "    from the count on the `bulk`\n",
    "'''\n",
    "\n",
    "cursor.execute( '''DROP TABLE IF EXISTS countbulk''' )\n",
    "\n",
    "createCountTable = \"\"\"CREATE TABLE countbulk AS\n",
    "                      SELECT bulk, sum(match_count) AS matchcount, \n",
    "                             sum(volume_count) AS volumecount, \n",
    "                             GROUP_CONCAT(DISTINCT ngram) AS ngrams\n",
    "                      FROM ngram\n",
    "                      GROUP BY bulk \"\"\"\n",
    "\n",
    "cursor.execute( createCountTable )\n",
    "\n",
    "dbconnection.commit()"
   ]
  },
  {
   "cell_type": "code",
   "execution_count": 33,
   "metadata": {},
   "outputs": [
    {
     "name": "stdout",
     "output_type": "stream",
     "text": [
      "('rien', 79251426, 3603345, 'RIEN,Rien_ADV,rien_PRON,RIEN_ADV,RIen_PRON,rien_NOUN,Rien_NOUN,RIEN_NOUN,Rien_PRON,rien,Rien,RIEN_PRON,rien_ADV,RIen,rien_')\n",
      "('rapport', 70571546, 2278544, 'RAPPoRT,rapPort,raPPort,RaPPORT,RaPPort_NOUN,raPport,RAPPoRT_NOUN,Rapport,rapPort_NOUN,raPport_NOUN,RAPPORt,RAPPORT,rappOrt,raPPort_NOUN,RAPPORt_NOUN,RAPPORT_NOUN,RaPPORT_NOUN,rappOrt_NOUN,Rapport_NOUN,rapport,RaPPort,rapport_NOUN')\n",
      "('roi', 69314725, 1898735, 'rOI_NOUN,roi_NOUN,rOi_NOUN,ROI_NOUN,RoI_NOUN,roi_,ROi,RoI,rOI,Roi,ROI,rOi,Roi_NOUN,ROi_NOUN,roi,roI_NOUN,roI')\n",
      "('raison', 59114288, 1816040, 'raisOn,raiSOn,Raison_NOUN,RAISON_NOUN,RAISON,raison,raisOn_NOUN,raiSon,raison_NOUN,raison_,raiSOn_NOUN,Raison,raiSon_NOUN')\n",
      "('reste', 57296476, 2812949, 'reSte_NOUN,Reste_NOUN,reSte,ReSte,reste,RESTE,resTe,reste_VERB,Reste,reSte_VERB,ReSte_VERB,RESTE_NOUN,reste_,Reste_VERB,reste_NOUN,RESTE_VERB')\n",
      "('rendre', 36175266, 1588842, 'Rendre_VERB,rendre,RENDRE_VERB,rendre_VERB,RENDRE,Rendre')\n",
      "('rôle', 36091716, 1647690, 'Rôle,rÔle,Rôle_NOUN,rôle_NOUN,rôle,RÔle_NOUN,RÔLE_NOUN,RôLE_NOUN,rôLe,rÔle_NOUN,RÔLE,rôLe_NOUN,RôLE,RÔle')\n",
      "('résultats', 32605206, 1575282, 'Résultats_NOUN,RÉSULTATS,résultats,RÉSULTATS_NOUN,résuLtats_NOUN,Résultats,résultats_NOUN,RÉSULTaTS_NOUN,résuLtats,RÉSULTaTS')\n",
      "('rue', 29348990, 1923132, 'ruE_NOUN,rUE,rue_,rUE_NOUN,rUe,RUe,RUE_NOUN,RuE_NOUN,rue,RUe_NOUN,ruE,rue_NOUN,Rue,Rue_NOUN,RuE,RUE,rUe_NOUN')\n",
      "('république', 28635420, 1585814, 'RÉPUBLIQUE,République,RÉPUBlIQUE_NOUN,RépuBlique_NOUN,République_NOUN,RÉPUBLIQUE_NOUN,RÉPUBLiQUE,RÉPUBLiQUE_NOUN,république_NOUN,RÉPUBlIQUE,RépuBlique,république')\n",
      "('recherche', 27614798, 2102048, 'Recherche_VERB,recherche,RECHERCHE_VERB,RECHERCHE_NOUN,RECHERCHE,recherche_VERB,REcherche_NOUN,Recherche,REcherche,Recherche_NOUN,recherche_NOUN')\n",
      "('régime', 27330000, 1502712, 'RÉGIME,RÉGIME_NOUN,Régime_NOUN,régime_NOUN,régime,Régime')\n",
      "('région', 27029222, 1325574, 'RÉGION_NOUN,Région_NOUN,région,région_NOUN,RÉGION,Région')\n",
      "('rapports', 26734522, 1772396, 'Rapports,rapports,Rapports_NOUN,raPPorts_NOUN,raPPorts,rapports_NOUN,RAPPORTS_NOUN,RAPPORTS')\n",
      "('relations', 26234094, 1690600, 'RELATIONS,RELATiONS_NOUN,RELATIONS_NOUN,Relations,Relations_NOUN,relations_NOUN,RELATiONS,relations')\n",
      "('réalité', 26136458, 1404718, 'RÉALITÉ_NOUN,Réalité,Réalité_NOUN,réalité_NOUN,RÉALITÉ,réalité')\n",
      "('révolution', 26026580, 1817852, 'RÉVOlUTION,RÉVOLUTION,RÉvOLUTION,Révolution,révolution,RÉVOlUTION_NOUN,RÉVOLUTION_NOUN,réVolution_NOUN,RéVolution_NOUN,RéVolution,révolution_NOUN,réVolution,RÉvOLUTION_NOUN,Révolution_NOUN')\n",
      "('r.', 24219166, 1568068, 'R._NOUN,R._X,r._PRON,R._PRON,r._NOUN,r._ADJ,R._,r.,R._VERB,R._PRT,r._ADV,R._ADJ,r._PRT,r._,r._VERB,R.,R._DET,r._X,r._DET')\n",
      "('religion', 22743542, 1428677, 'Religion_PRON,religion_X,religion_NOUN,religion_DET,RELIGION_X,Religion_X,religion_ADJ,religion,RELIGION,Religion,Religion_NOUN,religion_PRON,RELIGION_NOUN,religion_VERB')\n",
      "('recherches', 21679180, 1849934, 'RECHERCHES_NOUN,RECHERCHES,Recherches,REcherches,recherches_NOUN,Recherches_NOUN,recherches,REcherches_NOUN')\n",
      "('revue', 21614869, 2162073, 'revUe,REvuE,revue_VERB,ReVUE_NOUN,Revue_NOUN,ReVUE,rEVUE_NOUN,revue,REvUE_NOUN,ReVue_NOUN,RevUe,revUe_NOUN,revue_NOUN,ReVue,REVUE_VERB,reVue,rEVUE,REvUE,RevUe_NOUN,REVUE,reVue_NOUN,REVUE_NOUN,Revue_VERB,ReVUe_NOUN,Revue,REVuE,ReVUe')\n",
      "('résultat', 21459690, 1560304, 'RÉSULTAT_NOUN,Résultat,résultat_NOUN,Résultat_NOUN,RÉSULTAT,résultat')\n",
      "('retour', 20557196, 1752602, 'retoUr_NOUN,RETOUR_NOUN,Retour_NOUN,retour_NOUN,Retour,retoUr,retour,RETOUR')\n",
      "('route', 18557024, 1429364, 'roUte,route,ROUTE_NOUN,rOute,Route,rOute_NOUN,Route_NOUN,ROUTE,route_NOUN,roUte_NOUN')\n",
      "('rome', 18543054, 1047158, 'roME_NOUN,ROME_NOUN,Rome,RoME,Rome_NOUN,rome_NOUN,rOME,ROme,rOME_NOUN,ROME,RoME_NOUN,ROme_NOUN,rome,roME')\n",
      "('règles', 17390840, 1351160, 'Règles_NOUN,RÈGLES_NOUN,règles_NOUN,règLes,Règles,RÈGLES,règLes_NOUN,règles')\n",
      "('réponse', 17253018, 1685544, 'réponse_NOUN,RÉPONSE,Réponse,RÉPONSE_NOUN,réponse,Réponse_NOUN')\n",
      "('rendu', 16770252, 1498656, 'Rendu,RENDU,rendu,Rendu_VERB,rendu_VERB,RENDU_VERB')\n",
      "('royaume', 16531364, 1424769, 'RoYAUME,Royaume,RoYAUME_NOUN,ROYAUME_PRT,ROYAUME_X,royaume_DET,Royaume_ADV,Royaume_PRON,Royaume_,royaume_PRT,ROYAUME,Royaume_VERB,royaume_CONJ,royaume_NOUN,Royaume_PRT,Royaume_CONJ,royaume_ADV,royaume,royaume_PRON,royaume_ADJ,royaume_X,Royaume_DET,Royaume_NOUN,royaume_VERB,Royaume_X,ROYAUME_NOUN')\n",
      "('relation', 16220493, 1451766, 'relation_VERB,Relation_NOUN,RELATION_DET,relation_NOUN,relation,Relation_DET,RELATION_NOUN,relation_ADJ,relation_PRT,Relation_PRON,Relation_X,RELATION_X,relation_PRON,Relation,relation_X,relation_DET,RELATION')\n"
     ]
    }
   ],
   "source": [
    "# Get the top 30:\n",
    "createCountTable = \"\"\"SELECT * from countbulk\n",
    "                      ORDER BY matchcount DESC\n",
    "                      LIMIT 30\"\"\"\n",
    "\n",
    "cursor.execute( createCountTable )\n",
    "\n",
    "rows = cursor.fetchall()\n",
    "for row in rows:\n",
    "    print(row)"
   ]
  },
  {
   "cell_type": "code",
   "execution_count": 34,
   "metadata": {},
   "outputs": [],
   "source": [
    "# Build the table `countngram` using the ngram:\n",
    "\n",
    "cursor.execute( '''DROP TABLE IF EXISTS countngram''' )\n",
    "\n",
    "createCountTable = \"\"\"CREATE TABLE countngram AS\n",
    "                      SELECT ngram, sum(match_count) AS matchcount,\n",
    "                      sum(volume_count) AS volumecount\n",
    "                      FROM ngram\n",
    "                      GROUP BY ngram \"\"\"\n",
    "\n",
    "cursor.execute( createCountTable )\n",
    "\n",
    "dbconnection.commit()"
   ]
  },
  {
   "cell_type": "code",
   "execution_count": 35,
   "metadata": {},
   "outputs": [
    {
     "name": "stdout",
     "output_type": "stream",
     "text": [
      "('rien', 35918056, 735403)\n",
      "('rien_PRON', 33582027, 733332)\n",
      "('rapport', 31421698, 718616)\n",
      "('rapport_NOUN', 31421698, 718616)\n",
      "('raison', 29001873, 741322)\n",
      "('raison_NOUN', 29001873, 741322)\n",
      "('reste', 27841995, 748952)\n",
      "('roi', 26349866, 527230)\n",
      "('roi_NOUN', 26349866, 527230)\n",
      "('rendre', 18002986, 730715)\n",
      "('rendre_VERB', 18002986, 730715)\n",
      "('rôle', 17684156, 685547)\n",
      "('rôle_NOUN', 17684156, 685547)\n",
      "('reste_VERB', 15758482, 731363)\n",
      "('résultats', 15586004, 618719)\n",
      "('résultats_NOUN', 15586004, 618719)\n",
      "('rue', 13320485, 606351)\n",
      "('rue_NOUN', 13320485, 606351)\n",
      "('réalité', 12964969, 653267)\n",
      "('réalité_NOUN', 12964969, 653267)\n",
      "('région', 12697576, 525758)\n",
      "('région_NOUN', 12697576, 525758)\n",
      "('régime', 12670766, 555951)\n",
      "('régime_NOUN', 12670766, 555951)\n",
      "('rapports', 12632608, 660091)\n",
      "('rapports_NOUN', 12632608, 660091)\n",
      "('recherche', 12324585, 651170)\n",
      "('relations', 12213762, 632956)\n",
      "('relations_NOUN', 12213762, 632956)\n",
      "('reste_NOUN', 12083513, 701929)\n"
     ]
    }
   ],
   "source": [
    "# Get the top 30:\n",
    "createCountTable = \"\"\"SELECT * from countngram\n",
    "                      ORDER BY matchcount DESC\n",
    "                      LIMIT 30\"\"\"\n",
    "\n",
    "cursor.execute( createCountTable )\n",
    "\n",
    "rows = cursor.fetchall()\n",
    "for row in rows:\n",
    "    print(row)"
   ]
  },
  {
   "cell_type": "code",
   "execution_count": 37,
   "metadata": {},
   "outputs": [
    {
     "name": "stdout",
     "output_type": "stream",
     "text": [
      "('recherche', 12324585, 651170)\n",
      "('recherche_NOUN', 11796853, 640016)\n",
      "('Recherche', 1222807, 204545)\n",
      "('Recherche_NOUN', 1213914, 203388)\n",
      "('recherche_VERB', 527732, 259188)\n",
      "('RECHERCHE', 259829, 68537)\n",
      "('RECHERCHE_NOUN', 259523, 68479)\n",
      "('Recherche_VERB', 8893, 6265)\n",
      "('RECHERCHE_VERB', 306, 186)\n",
      "('REcherche', 178, 137)\n",
      "('REcherche_NOUN', 178, 137)\n"
     ]
    }
   ],
   "source": [
    "''' Look for stats\n",
    "'''\n",
    "\n",
    "query = \"\"\"   SELECT ngram, sum(match_count) AS matchcount, \n",
    "                             sum(volume_count) AS volumecount\n",
    "                      FROM ngram\n",
    "                      WHERE bulk IS ?\n",
    "                      GROUP BY ngram\n",
    "                      ORDER BY matchcount DESC\"\"\"\n",
    "\n",
    "bulk = 'recherche' \n",
    "cursor.execute( query, (bulk, ) )\n",
    "\n",
    "rows = cursor.fetchall()\n",
    "for row in rows:\n",
    "    print(row)"
   ]
  },
  {
   "cell_type": "code",
   "execution_count": 38,
   "metadata": {},
   "outputs": [],
   "source": [
    "cursor.close()"
   ]
  },
  {
   "cell_type": "markdown",
   "metadata": {},
   "source": []
  },
  {
   "cell_type": "code",
   "execution_count": null,
   "metadata": {},
   "outputs": [],
   "source": []
  }
 ],
 "metadata": {
  "kernelspec": {
   "display_name": "Python 3",
   "language": "python",
   "name": "python3"
  },
  "language_info": {
   "codemirror_mode": {
    "name": "ipython",
    "version": 3
   },
   "file_extension": ".py",
   "mimetype": "text/x-python",
   "name": "python",
   "nbconvert_exporter": "python",
   "pygments_lexer": "ipython3",
   "version": "3.5.2"
  }
 },
 "nbformat": 4,
 "nbformat_minor": 2
}
