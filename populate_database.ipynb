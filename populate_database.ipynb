{
 "cells": [
  {
   "cell_type": "code",
   "execution_count": 1,
   "metadata": {},
   "outputs": [],
   "source": [
    "import gzip\n",
    "import sqlite3 as sq"
   ]
  },
  {
   "cell_type": "markdown",
   "metadata": {},
   "source": [
    "# Populate the Database\n",
    "\n",
    "- Read the '.gz' archive file [downloaded here](http://storage.googleapis.com/books/ngrams/books/datasetsv2.html)\n",
    "- Fill a table with the informations: ngram, year, match_count, volume_count, bulk, cat\n",
    "\n",
    "`bulk` est le ngram sans la categorie grammatical, et en minuscule.\n",
    "`cat` est la categorie grammatical."
   ]
  },
  {
   "cell_type": "code",
   "execution_count": 2,
   "metadata": {},
   "outputs": [],
   "source": [
    "letter = 'r'\n",
    "\n",
    "databasefilename = 'data/database-%s.sqlite' % letter"
   ]
  },
  {
   "cell_type": "code",
   "execution_count": 3,
   "metadata": {},
   "outputs": [
    {
     "name": "stdout",
     "output_type": "stream",
     "text": [
      "rm: cannot remove 'data/database-r.sqlite': No such file or directory\n"
     ]
    }
   ],
   "source": [
    "%rm $databasefilename"
   ]
  },
  {
   "cell_type": "code",
   "execution_count": 4,
   "metadata": {},
   "outputs": [],
   "source": [
    "dbconnection = sq.connect('data/database-%s.sqlite'%letter)\n",
    "cursor = dbconnection.cursor()"
   ]
  },
  {
   "cell_type": "code",
   "execution_count": 5,
   "metadata": {},
   "outputs": [
    {
     "data": {
      "text/plain": [
       "<sqlite3.Cursor at 0x7f8650562ce0>"
      ]
     },
     "execution_count": 5,
     "metadata": {},
     "output_type": "execute_result"
    }
   ],
   "source": [
    "cursor.execute( '''DROP TABLE IF EXISTS ngram''' )"
   ]
  },
  {
   "cell_type": "code",
   "execution_count": 6,
   "metadata": {},
   "outputs": [],
   "source": [
    "createTable = \"\"\" CREATE TABLE ngram (\n",
    "                    id INTEGER PRIMARY KEY,\n",
    "                    ngram TEXT,\n",
    "                    year INTEGER,\n",
    "                    match_count INTEGER,\n",
    "                    volume_count INTEGER,\n",
    "                    bulk TEXT,\n",
    "                    cat TEXT)\n",
    "                \"\"\""
   ]
  },
  {
   "cell_type": "code",
   "execution_count": 7,
   "metadata": {},
   "outputs": [
    {
     "data": {
      "text/plain": [
       "<sqlite3.Cursor at 0x7f8650562ce0>"
      ]
     },
     "execution_count": 7,
     "metadata": {},
     "output_type": "execute_result"
    }
   ],
   "source": [
    "cursor.execute( createTable )"
   ]
  },
  {
   "cell_type": "code",
   "execution_count": 8,
   "metadata": {},
   "outputs": [],
   "source": [
    "def parseLine( line ):\n",
    "    ''' from the google doc:\n",
    "        ngram TAB year TAB match_count TAB volume_count NEWLINE\n",
    "    '''\n",
    "    L = line.split('\\t')\n",
    "    \n",
    "    ngram = L[0]\n",
    "    ngram_splited = ngram.split('_')\n",
    "    if len(ngram_splited)==2:\n",
    "        bulk = ngram_splited[0].lower()\n",
    "        cat = ngram_splited[1]\n",
    "    else:\n",
    "        bulk = ngram.lower()\n",
    "        cat = None\n",
    "    \n",
    "    dico = {'ngram':ngram,\n",
    "            'year':int(L[1]),\n",
    "            'match_count':int(L[2]),\n",
    "            'volume_count':int(L[3]),\n",
    "            'bulk':bulk,\n",
    "            'cat':cat}\n",
    "    \n",
    "    return dico"
   ]
  },
  {
   "cell_type": "code",
   "execution_count": 9,
   "metadata": {},
   "outputs": [],
   "source": [
    "def insertAline( cursor, entry ):\n",
    "    insertquery = '''INSERT INTO ngram (\n",
    "                     ngram, year, match_count, volume_count, bulk, cat )\n",
    "                     VALUES(?, ?, ?, ?, ?, ?) '''\n",
    "\n",
    "    cursor.execute(insertquery, entry)\n",
    "    \n",
    "def insertManylines( cursor, entries ):\n",
    "    insertquery = '''INSERT INTO ngram (\n",
    "                     ngram, year, match_count, volume_count, bulk, cat )\n",
    "                     VALUES(?, ?, ?, ?, ?, ?) '''\n",
    "\n",
    "    cursor.executemany(insertquery, entries)"
   ]
  },
  {
   "cell_type": "code",
   "execution_count": 10,
   "metadata": {},
   "outputs": [],
   "source": [
    "filepath = 'data/'+'googlebooks-fre-all-1gram-20120701-%s.gz' % letter"
   ]
  },
  {
   "cell_type": "code",
   "execution_count": 11,
   "metadata": {},
   "outputs": [
    {
     "name": "stdout",
     "output_type": "stream",
     "text": [
      "35780570\n",
      "3.578057e+07\n"
     ]
    }
   ],
   "source": [
    "# Command to get the number of lines:\n",
    "Ntot = !zcat $filepath | wc -l\n",
    "Ntot = int(Ntot[0])\n",
    "print(Ntot)\n",
    "print('%e'%Ntot)"
   ]
  },
  {
   "cell_type": "code",
   "execution_count": 12,
   "metadata": {},
   "outputs": [
    {
     "name": "stdout",
     "output_type": "stream",
     "text": [
      " 99.915 %done\n"
     ]
    }
   ],
   "source": [
    "Nmax = Ntot # int( Ntot/3 )\n",
    "bufferSize = 50000\n",
    "buffer = []\n",
    "\n",
    "with gzip.open(filepath, 'rt') as textfile:  \n",
    "    \n",
    "    for k in range( Nmax ):\n",
    "        line = textfile.readline()\n",
    "        d = parseLine(line)\n",
    "        \n",
    "        if d['year'] < 1800:\n",
    "            continue\n",
    "            \n",
    "        entry = [d['ngram'], d['year'], d['match_count'], d['volume_count'], \n",
    "                 d['bulk'], d['cat']]\n",
    "        buffer.append( entry )\n",
    "        \n",
    "        if k % bufferSize == 0:\n",
    "            insertManylines( cursor, buffer )\n",
    "            buffer = []\n",
    "            percent = k/Ntot*100\n",
    "            print( '\\r %.3f %%'%percent, end='' )\n",
    "        \n",
    "dbconnection.commit()\n",
    "print('done')"
   ]
  },
  {
   "cell_type": "code",
   "execution_count": 13,
   "metadata": {},
   "outputs": [
    {
     "data": {
      "text/plain": [
       "<sqlite3.Cursor at 0x7f8650562ce0>"
      ]
     },
     "execution_count": 13,
     "metadata": {},
     "output_type": "execute_result"
    }
   ],
   "source": [
    "createIndex = \"CREATE INDEX indexNgram ON ngram (ngram);\"\n",
    "cursor.execute(createIndex)"
   ]
  },
  {
   "cell_type": "code",
   "execution_count": 14,
   "metadata": {},
   "outputs": [
    {
     "data": {
      "text/plain": [
       "<sqlite3.Cursor at 0x7f8650562ce0>"
      ]
     },
     "execution_count": 14,
     "metadata": {},
     "output_type": "execute_result"
    }
   ],
   "source": [
    "createIndex = \"CREATE INDEX indexBulk ON ngram (bulk);\"\n",
    "cursor.execute(createIndex)"
   ]
  },
  {
   "cell_type": "code",
   "execution_count": 15,
   "metadata": {},
   "outputs": [],
   "source": [
    "cursor.close()"
   ]
  },
  {
   "cell_type": "code",
   "execution_count": null,
   "metadata": {},
   "outputs": [],
   "source": []
  }
 ],
 "metadata": {
  "kernelspec": {
   "display_name": "Python 3",
   "language": "python",
   "name": "python3"
  },
  "language_info": {
   "codemirror_mode": {
    "name": "ipython",
    "version": 3
   },
   "file_extension": ".py",
   "mimetype": "text/x-python",
   "name": "python",
   "nbconvert_exporter": "python",
   "pygments_lexer": "ipython3",
   "version": "3.5.2"
  }
 },
 "nbformat": 4,
 "nbformat_minor": 2
}
